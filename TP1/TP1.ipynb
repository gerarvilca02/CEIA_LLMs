{
 "cells": [
  {
   "cell_type": "code",
   "execution_count": 1,
   "id": "1f312750-60a5-459e-8261-4ccf7a6f714b",
   "metadata": {},
   "outputs": [],
   "source": [
    "import warnings\n",
    "warnings.filterwarnings(\"ignore\")\n",
    "from langchain.document_loaders import PyPDFDirectoryLoader\n",
    "\n",
    "dir_cv = r'C:\\Users\\Gerardo Vilcamiza\\Documents\\Python Scripts\\Master IA\\LLMs\\CVs'\n",
    "file_loader = PyPDFDirectoryLoader(dir_cv)\n",
    "doc_cv = file_loader.load()"
   ]
  },
  {
   "cell_type": "code",
   "execution_count": 2,
   "id": "4cd9eb1d-15e3-47a1-bfab-259422e48aaf",
   "metadata": {},
   "outputs": [
    {
     "name": "stdout",
     "output_type": "stream",
     "text": [
      "Total de fragmentos creados: 10\n",
      "Ejemplo de fragmento:\n",
      "Gerardo Vilcamiza\n",
      "Ingeniero Mecatrónico & Data Scientist\n",
      "gerardo.vilcamiza@ieee.org\n",
      "+51 951690621\n",
      "Lima, Perú\n",
      "linkedin.com/in/gerardo-vilcamiza/\n",
      "github.com/gerarvilca02\n",
      "0000-0001-6109-5515\n",
      "PERFIL\n",
      "Ingeniero Mecatrónico de la UPC, clasificado dentro del quinto superior de la carrera. Entusiasta y dedicado, a la\n",
      "vanguardia de la tecnología y la investigación. Mi experticia abarca un amplio rango de softwares de diseño 2D y 3D,\n",
      "lenguajes de programación, herramientas de inteligencia artificial y el m...\n"
     ]
    }
   ],
   "source": [
    "from langchain.text_splitter import RecursiveCharacterTextSplitter\n",
    "\n",
    "text_splitter=RecursiveCharacterTextSplitter(chunk_size=2000, chunk_overlap=100)\n",
    "documents_cv = text_splitter.split_documents(doc_cv)\n",
    "\n",
    "print(f\"Total de fragmentos creados: {len(documents_cv)}\")\n",
    "print(f\"Ejemplo de fragmento:\\n{documents_cv[0].page_content[:500]}...\")"
   ]
  },
  {
   "cell_type": "code",
   "execution_count": 3,
   "id": "d6ddaae5-15b1-44d1-8509-0fdf44f1f4c4",
   "metadata": {},
   "outputs": [
    {
     "name": "stdout",
     "output_type": "stream",
     "text": [
      "Índice eguins borrado\n",
      "Índice creado con el nombre: eguins\n"
     ]
    }
   ],
   "source": [
    "import os\n",
    "import time\n",
    "from pinecone import Pinecone, ServerlessSpec\n",
    "from langchain_pinecone import PineconeVectorStore\n",
    "\n",
    "PINECONE_API_KEY = \"pcsk_5o862d_Lphz9e8ANb6jeZTA2w7DHpjUHoGZKCLjCZWKEMKb1sVa7ofgvg9WFpjgWDpsp5Y\"\n",
    "os.environ[\"PINECONE_API_KEY\"] = PINECONE_API_KEY\n",
    "\n",
    "cloud = os.environ.get('PINECONE_CLOUD') or 'aws'\n",
    "region = os.environ.get('PINECONE_REGION') or 'us-east-1'\n",
    "\n",
    "pc = Pinecone(api_key=PINECONE_API_KEY)\n",
    "spec = ServerlessSpec(cloud=cloud, region=region)\n",
    "\n",
    "index_name = 'eguins'\n",
    "\n",
    "if index_name in pc.list_indexes().names():\n",
    "    pc.delete_index(index_name)\n",
    "    print(\"Índice {} borrado\".format(index_name))\n",
    "\n",
    "if index_name not in pc.list_indexes().names():\n",
    "    print(\"Índice creado con el nombre: {}\".format(index_name))\n",
    "    pc.create_index(\n",
    "        name=index_name,\n",
    "        dimension=1024,\n",
    "        metric='cosine',\n",
    "        spec=spec\n",
    "    )\n",
    "else:\n",
    "    print(\"El índice con el nombre {} ya estaba creado\".format(index_name))"
   ]
  },
  {
   "cell_type": "code",
   "execution_count": 4,
   "id": "2426ce46-5119-4f41-9c1e-53012d50ea2a",
   "metadata": {},
   "outputs": [
    {
     "name": "stdout",
     "output_type": "stream",
     "text": [
      "Valores insertados en el índice eguins\n"
     ]
    }
   ],
   "source": [
    "from langchain_pinecone import PineconeEmbeddings\n",
    "\n",
    "embed_model = PineconeEmbeddings(model=\"multilingual-e5-large\")\n",
    "\n",
    "namespace = \"espacio\"\n",
    "\n",
    "docsearch = PineconeVectorStore.from_documents(\n",
    "    documents=documents_cv,\n",
    "    index_name=index_name,\n",
    "    embedding=embed_model,\n",
    "    namespace=namespace\n",
    ")\n",
    "\n",
    "print(\"Valores insertados en el índice {}\".format(index_name))\n",
    "time.sleep(1)"
   ]
  },
  {
   "cell_type": "code",
   "execution_count": 5,
   "id": "50377a6f-03cf-40d0-82a2-d5ca07ea0dc8",
   "metadata": {},
   "outputs": [],
   "source": [
    "from langchain_groq import ChatGroq\n",
    "\n",
    "os.environ[\"GROQ_API_KEY\"] = \"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\"\n",
    "llm = ChatGroq(model=\"llama3-70b-8192\", temperature=0.2)"
   ]
  },
  {
   "cell_type": "code",
   "execution_count": 13,
   "id": "5aca82f4-f0db-4033-8a79-52e959979acf",
   "metadata": {},
   "outputs": [
    {
     "name": "stdin",
     "output_type": "stream",
     "text": [
      "Introduce tu pregunta sobre los CVs cargados:  Quién es Gerardo Vilcamiza?\n"
     ]
    },
    {
     "name": "stdout",
     "output_type": "stream",
     "text": [
      "\n",
      "**Respuesta:**\n",
      "\n",
      "Gerardo Vilcamiza es un ingeniero mecatrónico y científico de datos (Data Scientist) con experiencia en inteligencia artificial, machine learning y desarrollo de proyectos de Big Data. También es un apasionado de la inteligencia artificial y la ciencia de datos, y ha trabajado en proyectos en Perú, Colombia y México.\n"
     ]
    }
   ],
   "source": [
    "from langchain.chains import RetrievalQA\n",
    "\n",
    "retriever = docsearch.as_retriever(search_type=\"similarity\", search_kwargs={\"k\": 5})\n",
    "\n",
    "qa_chain = RetrievalQA.from_chain_type(\n",
    "    llm=llm,\n",
    "    retriever=retriever,\n",
    "    chain_type=\"stuff\"\n",
    ")\n",
    "\n",
    "query = input(\"Introduce tu pregunta sobre los CVs cargados: \")\n",
    "\n",
    "if query:\n",
    "    response = qa_chain.run(query)\n",
    "    print(\"\\n**Respuesta:**\\n\")\n",
    "    print(response)"
   ]
  },
  {
   "cell_type": "code",
   "execution_count": null,
   "id": "b6e5fd6f-b8af-4f8a-86c2-4785744ca410",
   "metadata": {},
   "outputs": [],
   "source": []
  }
 ],
 "metadata": {
  "kernelspec": {
   "display_name": "Python 3 (ipykernel)",
   "language": "python",
   "name": "python3"
  },
  "language_info": {
   "codemirror_mode": {
    "name": "ipython",
    "version": 3
   },
   "file_extension": ".py",
   "mimetype": "text/x-python",
   "name": "python",
   "nbconvert_exporter": "python",
   "pygments_lexer": "ipython3",
   "version": "3.11.10"
  }
 },
 "nbformat": 4,
 "nbformat_minor": 5
}
